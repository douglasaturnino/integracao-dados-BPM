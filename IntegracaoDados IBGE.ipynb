{
 "cells": [
  {
   "cell_type": "code",
   "execution_count": 14,
   "metadata": {},
   "outputs": [],
   "source": [
    "import pandas as pd\n",
    "from datetime import datetime"
   ]
  },
  {
   "cell_type": "markdown",
   "metadata": {},
   "source": [
    "# Coleta de dados do site do IBGE"
   ]
  },
  {
   "cell_type": "code",
   "execution_count": 15,
   "metadata": {},
   "outputs": [
    {
     "data": {
      "text/html": [
       "<div>\n",
       "<style scoped>\n",
       "    .dataframe tbody tr th:only-of-type {\n",
       "        vertical-align: middle;\n",
       "    }\n",
       "\n",
       "    .dataframe tbody tr th {\n",
       "        vertical-align: top;\n",
       "    }\n",
       "\n",
       "    .dataframe thead th {\n",
       "        text-align: right;\n",
       "    }\n",
       "</style>\n",
       "<table border=\"1\" class=\"dataframe\">\n",
       "  <thead>\n",
       "    <tr style=\"text-align: right;\">\n",
       "      <th></th>\n",
       "      <th>nmMunic</th>\n",
       "      <th>codMunic</th>\n",
       "      <th>dtCarga</th>\n",
       "    </tr>\n",
       "    <tr>\n",
       "      <th>idMunic</th>\n",
       "      <th></th>\n",
       "      <th></th>\n",
       "      <th></th>\n",
       "    </tr>\n",
       "  </thead>\n",
       "  <tbody>\n",
       "    <tr>\n",
       "      <th>1</th>\n",
       "      <td>Angra dos Reis</td>\n",
       "      <td>3300100</td>\n",
       "      <td>27/05/2024 17:40</td>\n",
       "    </tr>\n",
       "    <tr>\n",
       "      <th>2</th>\n",
       "      <td>Aperibé</td>\n",
       "      <td>3300159</td>\n",
       "      <td>27/05/2024 17:40</td>\n",
       "    </tr>\n",
       "    <tr>\n",
       "      <th>3</th>\n",
       "      <td>Araruama</td>\n",
       "      <td>3300209</td>\n",
       "      <td>27/05/2024 17:40</td>\n",
       "    </tr>\n",
       "    <tr>\n",
       "      <th>4</th>\n",
       "      <td>Areal</td>\n",
       "      <td>3300225</td>\n",
       "      <td>27/05/2024 17:40</td>\n",
       "    </tr>\n",
       "    <tr>\n",
       "      <th>5</th>\n",
       "      <td>Armação dos Búzios</td>\n",
       "      <td>3300233</td>\n",
       "      <td>27/05/2024 17:40</td>\n",
       "    </tr>\n",
       "    <tr>\n",
       "      <th>...</th>\n",
       "      <td>...</td>\n",
       "      <td>...</td>\n",
       "      <td>...</td>\n",
       "    </tr>\n",
       "    <tr>\n",
       "      <th>88</th>\n",
       "      <td>Três Rios</td>\n",
       "      <td>3306008</td>\n",
       "      <td>27/05/2024 17:40</td>\n",
       "    </tr>\n",
       "    <tr>\n",
       "      <th>89</th>\n",
       "      <td>Valença</td>\n",
       "      <td>3306107</td>\n",
       "      <td>27/05/2024 17:40</td>\n",
       "    </tr>\n",
       "    <tr>\n",
       "      <th>90</th>\n",
       "      <td>Varre-Sai</td>\n",
       "      <td>3306156</td>\n",
       "      <td>27/05/2024 17:40</td>\n",
       "    </tr>\n",
       "    <tr>\n",
       "      <th>91</th>\n",
       "      <td>Vassouras</td>\n",
       "      <td>3306206</td>\n",
       "      <td>27/05/2024 17:40</td>\n",
       "    </tr>\n",
       "    <tr>\n",
       "      <th>92</th>\n",
       "      <td>Volta Redonda</td>\n",
       "      <td>3306305</td>\n",
       "      <td>27/05/2024 17:40</td>\n",
       "    </tr>\n",
       "  </tbody>\n",
       "</table>\n",
       "<p>92 rows × 3 columns</p>\n",
       "</div>"
      ],
      "text/plain": [
       "                    nmMunic  codMunic           dtCarga\n",
       "idMunic                                                \n",
       "1            Angra dos Reis   3300100  27/05/2024 17:40\n",
       "2                   Aperibé   3300159  27/05/2024 17:40\n",
       "3                  Araruama   3300209  27/05/2024 17:40\n",
       "4                     Areal   3300225  27/05/2024 17:40\n",
       "5        Armação dos Búzios   3300233  27/05/2024 17:40\n",
       "...                     ...       ...               ...\n",
       "88                Três Rios   3306008  27/05/2024 17:40\n",
       "89                  Valença   3306107  27/05/2024 17:40\n",
       "90                Varre-Sai   3306156  27/05/2024 17:40\n",
       "91                Vassouras   3306206  27/05/2024 17:40\n",
       "92            Volta Redonda   3306305  27/05/2024 17:40\n",
       "\n",
       "[92 rows x 3 columns]"
      ]
     },
     "execution_count": 15,
     "metadata": {},
     "output_type": "execute_result"
    }
   ],
   "source": [
    "# Coletando dados do IBGE\n",
    "url = 'https://www.ibge.gov.br/explica/codigos-dos-municipios.php#RJ'\n",
    "\n",
    "DadosIBGE = pd.read_html(url, match=\"Municípios do Rio de Janeiro\")[0]\n",
    "\n",
    "# Renomear colunas do df\n",
    "DadosIBGE = DadosIBGE.rename(columns={'Municípios do Rio de Janeiro':'nmMunic','Códigos':'codMunic'})\n",
    "\n",
    "# Alterando o nome do index\n",
    "DadosIBGE.index.name = 'idMunic'\n",
    "\n",
    "# Alterando o index para comelar em 1\n",
    "DadosIBGE.index = DadosIBGE.index + 1\n",
    "\n",
    "# Adicionoar uma coluna de data e hora decarga \n",
    "DadosIBGE['dtCarga'] = datetime.today().strftime('%d/%m/%Y %H:%M')\n",
    "\n",
    "DadosIBGE"
   ]
  },
  {
   "cell_type": "markdown",
   "metadata": {},
   "source": [
    "# Criando o Banco de Dados ODS"
   ]
  },
  {
   "cell_type": "code",
   "execution_count": null,
   "metadata": {},
   "outputs": [],
   "source": []
  }
 ],
 "metadata": {
  "kernelspec": {
   "display_name": ".venv",
   "language": "python",
   "name": "python3"
  },
  "language_info": {
   "codemirror_mode": {
    "name": "ipython",
    "version": 3
   },
   "file_extension": ".py",
   "mimetype": "text/x-python",
   "name": "python",
   "nbconvert_exporter": "python",
   "pygments_lexer": "ipython3",
   "version": "3.12.3"
  }
 },
 "nbformat": 4,
 "nbformat_minor": 2
}
