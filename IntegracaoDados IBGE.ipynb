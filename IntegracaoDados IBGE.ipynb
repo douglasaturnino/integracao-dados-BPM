{
 "cells": [
  {
   "cell_type": "code",
   "execution_count": 10,
   "metadata": {},
   "outputs": [],
   "source": [
    "import os\n",
    "import sqlite3 as sql\n",
    "from datetime import datetime\n",
    "\n",
    "import pandas as pd"
   ]
  },
  {
   "cell_type": "markdown",
   "metadata": {},
   "source": [
    "# Coleta de dados do site do IBGE"
   ]
  },
  {
   "cell_type": "code",
   "execution_count": 11,
   "metadata": {},
   "outputs": [],
   "source": [
    "# Coletando dados do IBGE\n",
    "url = 'https://www.ibge.gov.br/explica/codigos-dos-municipios.php#RJ'\n",
    "\n",
    "dadosIBGE = pd.read_html(url, match=\"Municípios do Rio de Janeiro\")[0]\n",
    "\n",
    "# Renomear colunas do df\n",
    "dadosIBGE = dadosIBGE.rename(columns={'Municípios do Rio de Janeiro':'nmMunic','Códigos':'codMunic'})\n",
    "\n",
    "# Alterando o nome do index\n",
    "dadosIBGE.index.name = 'idMunic'\n",
    "\n",
    "# Alterando o index para comelar em 1\n",
    "dadosIBGE.index = dadosIBGE.index + 1\n",
    "\n",
    "# Adicionoar uma coluna de data e hora decarga \n",
    "dtCarga = datetime.today().strftime('%d/%m/%Y %H:%M')\n",
    "dadosIBGE['dtCarga'] = dtCarga\n",
    "\n",
    "# dadosIBGE"
   ]
  },
  {
   "cell_type": "markdown",
   "metadata": {},
   "source": [
    "# Criando o Banco de Dados ODS"
   ]
  },
  {
   "cell_type": "code",
   "execution_count": 12,
   "metadata": {},
   "outputs": [],
   "source": [
    "# Manipulando o sistema de arquivos\n",
    "path = os.getcwd()\n",
    "\n",
    "BDODS = os.path.join(path, \"pascoaODS.db\")\n",
    "BDDW = os.path.join(path, \"pascoaDW.db\")"
   ]
  },
  {
   "cell_type": "markdown",
   "metadata": {},
   "source": [
    "# Manipulando os Bancos de Dados Criados"
   ]
  },
  {
   "cell_type": "code",
   "execution_count": 13,
   "metadata": {},
   "outputs": [
    {
     "name": "stdout",
     "output_type": "stream",
     "text": [
      "Cargo do BDODS concluída!\n"
     ]
    }
   ],
   "source": [
    "# Conectar no BDODS\n",
    "conexaoODS = sql.connect(BDODS)\n",
    "\n",
    "# Criar a tabela tbLogMunic e carregar os dados do DF dadosIBGE\n",
    "dadosIBGE.to_sql('tbLogMunic', conexaoODS, if_exists=\"append\")\n",
    "\n",
    "# Confirmar a transação\n",
    "conexaoODS.commit()\n",
    "\n",
    "# Fechat a conexão\n",
    "conexaoODS.close()\n",
    "\n",
    "print(\"Cargo do BDODS concluída!\")"
   ]
  },
  {
   "cell_type": "code",
   "execution_count": 14,
   "metadata": {},
   "outputs": [
    {
     "name": "stdout",
     "output_type": "stream",
     "text": [
      "Cargo do BDDW concluída!\n"
     ]
    }
   ],
   "source": [
    "# Conectar no BDDW\n",
    "conexaoDW = sql.connect(BDDW)\n",
    "\n",
    "# Selecionar somente as colunas para criação da dMunicipio\n",
    "dadosIBGE = dadosIBGE[['nmMunic', 'codMunic']]\n",
    "\n",
    "# Criar a tabela dMunicipio e carregar os dados do DF dadosIBGE\n",
    "dadosIBGE.to_sql('dMunicipio', conexaoDW, if_exists=\"replace\")\n",
    "\n",
    "# Confirmar a transação\n",
    "conexaoDW.commit()\n",
    "\n",
    "# Fechat a conexão\n",
    "conexaoDW.close()\n",
    "\n",
    "print(\"Cargo do BDDW concluída!\")"
   ]
  },
  {
   "cell_type": "markdown",
   "metadata": {},
   "source": [
    "# Carga dos Dados de Cadastro das Delegacias de Polícia"
   ]
  },
  {
   "cell_type": "code",
   "execution_count": 15,
   "metadata": {},
   "outputs": [],
   "source": [
    "# Definir o endereço fisico do arquivo CSV\n",
    "pathDP  = os.path.join(path, 'DP.csv')\n",
    "\n",
    "# Cria DataFrame com os dados das DPs\n",
    "tbLogDP = pd.read_csv(pathDP)\n",
    "\n",
    "# Criando coluna com a data da carga\n",
    "tbLogDP['dtCarga'] = dtCarga\n",
    "# Selecionado a coluna COD_DP como novo index\n",
    "# tbLogDP = tbLogDP.set_index(\"COD_DP\")"
   ]
  },
  {
   "cell_type": "markdown",
   "metadata": {},
   "source": [
    "# Carga dos dados de cadastro dos Responsaveis pelas delegacia de policia"
   ]
  },
  {
   "cell_type": "code",
   "execution_count": 16,
   "metadata": {},
   "outputs": [],
   "source": [
    "# Criar DataFrame com os dados com os reponsaveis pelas DPs\n",
    "path_responsaveis = os.path.join(path, 'ResponsavelDP.csv')\n",
    "\n",
    "tbLogRespDP = pd.read_csv(path_responsaveis)\n",
    "\n",
    "# Criando coluna com a data da carga\n",
    "tbLogRespDP['dtCarga'] = dtCarga\n",
    "\n",
    "# Selecionado a coluna COD_DP como novo index\n",
    "# tbLogRespDP = tbLogRespDP.set_index(\"COD_DP\")"
   ]
  },
  {
   "cell_type": "markdown",
   "metadata": {},
   "source": [
    "# Conectando no ODS"
   ]
  },
  {
   "cell_type": "code",
   "execution_count": 17,
   "metadata": {},
   "outputs": [],
   "source": [
    "# Conectando no ODS\n",
    "conexaoODS = sql.connect(BDODS)\n",
    "\n",
    "# Definição de manipulação de dados em SQL\n",
    "sql_ODS = conexaoODS.cursor()\n"
   ]
  },
  {
   "cell_type": "markdown",
   "metadata": {},
   "source": [
    "# Inserindo Dados das Delegacias de Polícia, no SQLite"
   ]
  },
  {
   "cell_type": "code",
   "execution_count": 18,
   "metadata": {},
   "outputs": [
    {
     "name": "stdout",
     "output_type": "stream",
     "text": [
      "Iniciando a inserção de dados na tabela tbLogDP.\n",
      "------------------------------------------------\n",
      "Carga Finalizada! 137 registros inseridos na tbLogDP\n"
     ]
    }
   ],
   "source": [
    "# Inserindo registros na tabela tbLogDP\n",
    "print(\"Iniciando a inserção de dados na tabela tbLogDP.\")\n",
    "print(\"------------------------------------------------\")\n",
    "\n",
    "sql_ODS.executemany(''' INSERT INTO tbLogDP (codDP, nmDP, endereco, dtCarga) VALUES (?,?,?,?)''',tbLogDP.values.tolist()) \n",
    "\n",
    "# Confirmar a transação\n",
    "conexaoODS.commit()\n",
    "\n",
    "# Exibir uma mensagem de conclusão de carga\n",
    "print(f\"Carga Finalizada! {len(tbLogDP)} registros inseridos na tbLogDP\")"
   ]
  },
  {
   "cell_type": "markdown",
   "metadata": {},
   "source": [
    "# Inserindo Dados dos Responsaveis pela Delegacias de Polícia, no SQLite\n"
   ]
  },
  {
   "cell_type": "code",
   "execution_count": 19,
   "metadata": {},
   "outputs": [
    {
     "name": "stdout",
     "output_type": "stream",
     "text": [
      "Iniciando a inserção de dados na tabela tbLogRespDP.\n",
      "------------------------------------------------\n",
      "Carga Finalizada! 137 registros inseridos na tbLogRespDP\n"
     ]
    }
   ],
   "source": [
    "# Inserindo registros na tabela tbLogRespDP\n",
    "print(\"Iniciando a inserção de dados na tabela tbLogRespDP.\")\n",
    "print(\"------------------------------------------------\")\n",
    "\n",
    "sql_ODS.executemany(''' INSERT INTO tbLogRespDP (codDP, nmResponsavel, dtCarga) VALUES (?,?,?)''',tbLogRespDP.values.tolist()) \n",
    "\n",
    "# Confirmar a transação\n",
    "conexaoODS.commit()\n",
    "\n",
    "# Exibir uma mensagem de conclusão de carga\n",
    "print(f\"Carga Finalizada! {len(tbLogRespDP)} registros inseridos na tbLogRespDP\")"
   ]
  },
  {
   "cell_type": "markdown",
   "metadata": {},
   "source": [
    "# Validando Carga dos Dados de DP e de Responsável do DP"
   ]
  },
  {
   "cell_type": "code",
   "execution_count": 20,
   "metadata": {},
   "outputs": [],
   "source": [
    "# Validadar a carga através de um select na tbLogDP\n",
    "# pd.read_sql(\"SELECT * FROM tbLogDP\", conexaoODS)"
   ]
  },
  {
   "cell_type": "code",
   "execution_count": 21,
   "metadata": {},
   "outputs": [],
   "source": [
    "# Validadar a carga através de um select na tbLogRespDP\n",
    "# pd.read_sql(\"SELECT * FROM tbLogRespDP\", conexaoODS)"
   ]
  },
  {
   "cell_type": "markdown",
   "metadata": {},
   "source": [
    "# Criando o DataFrame com o select de criação da dimensão DP (dDP), no DW"
   ]
  },
  {
   "cell_type": "code",
   "execution_count": 22,
   "metadata": {},
   "outputs": [],
   "source": [
    "# definir a query de criação da dimensão dDp\n",
    "\n",
    "qry_dDP = '''\n",
    "    SELECT\n",
    "        codDP,\n",
    "        nmDP,\n",
    "        endereco,\n",
    "        nmResponsavel\n",
    "    FROM\n",
    "    (\n",
    "        SELECT\n",
    "            a.codDP,\n",
    "            a.nmDP,\n",
    "            a.endereco,\n",
    "            b.nmResponsavel,\n",
    "            MAX(a.dtCarga)\n",
    "        FROM  tbLogDP a\n",
    "        JOIN tbLogRespDP b ON (a.codDP  = b.codDP)\n",
    "        WHERE a.dtCarga = (\n",
    "\t\t    SELECT MAX(x.dtCarga)\n",
    "\t\t    FROM tbLogDP x\n",
    "\t    )\n",
    "        GROUP BY \n",
    "            a.codDP,\n",
    "            a.nmDP,\n",
    "            a.endereco,\n",
    "            b.nmResponsavel\n",
    "    ) a\n",
    "'''\n",
    "\n",
    "dDP = pd.read_sql(qry_dDP, conexaoODS)"
   ]
  },
  {
   "cell_type": "markdown",
   "metadata": {},
   "source": [
    "# Coletando dados dos Batalhões de Polícia Militar (BPM)"
   ]
  },
  {
   "cell_type": "code",
   "execution_count": 23,
   "metadata": {},
   "outputs": [],
   "source": [
    "# Criar DataFrame com os dados dos BPMs\n",
    "path_BPM = os.path.join(path, 'BPM.csv')\n",
    "tbLogBPM = pd.read_csv(path_BPM)\n",
    "\n",
    "# Criando coluna com a data da carga\n",
    "tbLogBPM['dtCarga'] = dtCarga"
   ]
  },
  {
   "cell_type": "markdown",
   "metadata": {},
   "source": [
    "# Construindo a Tebela de Log de Registros do BPM (tbLogBPM) no ODS"
   ]
  },
  {
   "cell_type": "code",
   "execution_count": 24,
   "metadata": {},
   "outputs": [
    {
     "data": {
      "text/plain": [
       "<sqlite3.Cursor at 0x7727101728c0>"
      ]
     },
     "execution_count": 24,
     "metadata": {},
     "output_type": "execute_result"
    }
   ],
   "source": [
    "# Definir a query decriação da tabela\n",
    "qry_tbLogBPM = \"\"\"\n",
    "    CREATE TABLE IF NOT EXISTS tbLogBPM(\n",
    "    \n",
    "    codBPM INTEGER,\n",
    "    nmBPM VARCHAR (7),\n",
    "    enderecoBPM VARCHAR (200),\n",
    "    dtCarga DATETIME\n",
    ")\n",
    "\"\"\"\n",
    "\n",
    "# executar a criação da tbLogBPM\n",
    "sql_ODS.execute(qry_tbLogBPM)\n",
    "\n",
    "# definição da qry de criação de index\n",
    "tbLogBPM_codBPM_IDX = \"CREATE INDEX IF NOT EXISTS tbLogBPM_codBPM_IDX ON tbLogBPM (codBPM)\"\n",
    "\n",
    "# executar a criação do index\n",
    "sql_ODS.execute(tbLogBPM_codBPM_IDX)\n"
   ]
  },
  {
   "cell_type": "markdown",
   "metadata": {},
   "source": [
    "# Inserindo Dados de BPM na Tabela tbLogBPM"
   ]
  },
  {
   "cell_type": "code",
   "execution_count": 25,
   "metadata": {},
   "outputs": [
    {
     "name": "stdout",
     "output_type": "stream",
     "text": [
      "Iniciando a inserção de dados na tabela tbLogBPM.\n",
      "------------------------------------------------\n"
     ]
    },
    {
     "name": "stdout",
     "output_type": "stream",
     "text": [
      "Carga Finalizada! 39 registros inseridos na tbLogBPM\n"
     ]
    }
   ],
   "source": [
    "# Inserindo registros na tabela tbLogBPM\n",
    "print(\"Iniciando a inserção de dados na tabela tbLogBPM.\")\n",
    "print(\"------------------------------------------------\")\n",
    "\n",
    "sql_ODS.executemany(''' INSERT INTO tbLogBPM (codBPM, nmBPM, enderecoBPM, dtCarga) VALUES (?,?,?,?)''',tbLogBPM.values.tolist()) \n",
    "\n",
    "# Confirmar a transação\n",
    "conexaoODS.commit()\n",
    "\n",
    "# Exibir uma mensagem de conclusão de carga\n",
    "print(f\"Carga Finalizada! {len(tbLogBPM)} registros inseridos na tbLogBPM\")"
   ]
  },
  {
   "cell_type": "markdown",
   "metadata": {},
   "source": [
    "# Coletando dados dos Batalhões de Polícia Militar (BPM)"
   ]
  },
  {
   "cell_type": "code",
   "execution_count": 26,
   "metadata": {},
   "outputs": [],
   "source": [
    "# Criar DataFrame com os dados dos BPMs\n",
    "path_AreaBPM = os.path.join(path, 'areaBPM.csv')\n",
    "tbLogAreaBPM = pd.read_csv(path_AreaBPM)\n",
    "\n",
    "# Criando coluna com a data da carga\n",
    "tbLogAreaBPM['dtCarga'] = dtCarga"
   ]
  },
  {
   "cell_type": "markdown",
   "metadata": {},
   "source": [
    "# Construindo a Tebela de Log de Registros da Área dos BPM (tbLogAreaBPM) no ODS"
   ]
  },
  {
   "cell_type": "code",
   "execution_count": 27,
   "metadata": {},
   "outputs": [
    {
     "data": {
      "text/plain": [
       "<sqlite3.Cursor at 0x7727101728c0>"
      ]
     },
     "execution_count": 27,
     "metadata": {},
     "output_type": "execute_result"
    }
   ],
   "source": [
    "# Definir a query decriação da tabela\n",
    "qry_tbLogAreaBPM= \"\"\"\n",
    "    CREATE TABLE IF NOT EXISTS tbLogAreaBPM(\n",
    "    \n",
    "    codBPM INTEGER,\n",
    "    areaBPM REAL (5,2),\n",
    "    dtCarga DATETIME\n",
    ")\n",
    "\"\"\"\n",
    "\n",
    "# executar a criação da tbLogAreaBPM\n",
    "sql_ODS.execute(qry_tbLogAreaBPM)\n",
    "\n",
    "# definição da qry de criação de index\n",
    "tbLogAreaBPM_codBPM_IDX = \"CREATE INDEX IF NOT EXISTS tbLogAreaBPM_codBPM_IDX ON tbLogAreaBPM (codBPM)\"\n",
    "\n",
    "# executar a criação do index\n",
    "sql_ODS.execute(tbLogAreaBPM_codBPM_IDX)\n"
   ]
  },
  {
   "cell_type": "markdown",
   "metadata": {},
   "source": [
    "# Inserindo Dados da Área dos BPM na Tabela tbLogAreaBPM"
   ]
  },
  {
   "cell_type": "code",
   "execution_count": 28,
   "metadata": {},
   "outputs": [
    {
     "name": "stdout",
     "output_type": "stream",
     "text": [
      "Iniciando a inserção de dados na tabela tbLogAreaBPM.\n",
      "------------------------------------------------\n",
      "Carga Finalizada! 39 registros inseridos na tbLogAreaBPM\n"
     ]
    }
   ],
   "source": [
    "# Inserindo registros na tabela tbLogBPM\n",
    "print(\"Iniciando a inserção de dados na tabela tbLogAreaBPM.\")\n",
    "print(\"------------------------------------------------\")\n",
    "\n",
    "sql_ODS.executemany(''' INSERT INTO tbLogAreaBPM (codBPM, areaBPM, dtCarga) VALUES (?,?,?)''',tbLogAreaBPM.values.tolist()) \n",
    "\n",
    "# Confirmar a transação\n",
    "conexaoODS.commit()\n",
    "\n",
    "# Exibir uma mensagem de conclusão de carga\n",
    "print(f\"Carga Finalizada! {len(tbLogAreaBPM)} registros inseridos na tbLogAreaBPM\")"
   ]
  },
  {
   "cell_type": "code",
   "execution_count": null,
   "metadata": {},
   "outputs": [],
   "source": []
  },
  {
   "cell_type": "markdown",
   "metadata": {},
   "source": [
    "# Criando o DataFrame com o select de criação da dimensão BPM (dBPM), no DW"
   ]
  },
  {
   "cell_type": "code",
   "execution_count": 29,
   "metadata": {},
   "outputs": [],
   "source": [
    "# definir a query de criação da dimensão dBPM\n",
    "\n",
    "qry_dBPM = '''\n",
    "SELECT\n",
    "\tcodBPM,\n",
    "\tnmBPM,\n",
    "\tenderecoBPM,\n",
    "\tareaBPM\n",
    "FROM (\n",
    "\tSELECT \n",
    "\t\ta.codBPM,\n",
    "\t\ta.nmBPM,\n",
    "\t\ta.enderecoBPM,\n",
    "\t\tb.areaBPM,\n",
    "\t\tMAX(a.dtCarga)\n",
    "\tFROM tbLogBPM a\n",
    "\tJOIN tbLogAreaBPM b ON a.codBPM = b.codBPM\n",
    "\tWHERE a.dtCarga = (\n",
    "\t\tSELECT MAX(x.dtCarga)\n",
    "\t\tFROM tbLogBPM x\n",
    "\t)\n",
    "\tGROUP BY\n",
    "\t\ta.codBPM,\n",
    "\t\ta.nmBPM,\n",
    "\t\ta.enderecoBPM,\n",
    "\t\tb.areaBPM\n",
    ")\n",
    "'''\n",
    "\n",
    "dBPM = pd.read_sql(qry_dBPM, conexaoODS)"
   ]
  },
  {
   "cell_type": "markdown",
   "metadata": {},
   "source": [
    "# Fecando a conexão com o ODS"
   ]
  },
  {
   "cell_type": "code",
   "execution_count": 30,
   "metadata": {},
   "outputs": [],
   "source": [
    "# Confirmar a transação \n",
    "conexaoODS.commit()\n",
    "\n",
    "# Fechar a conexão\n",
    "conexaoODS.close()"
   ]
  },
  {
   "cell_type": "markdown",
   "metadata": {},
   "source": [
    "# Conectando no DW e Informando ao python que usarei Linguagem SQL"
   ]
  },
  {
   "cell_type": "code",
   "execution_count": 31,
   "metadata": {},
   "outputs": [],
   "source": [
    "# Conectar no BDDW\n",
    "conexaoDW = sql.connect(BDDW)\n",
    "\n",
    "# Definição de manipulação de dados em SQL\n",
    "sql_DW = conexaoDW.cursor()"
   ]
  },
  {
   "cell_type": "markdown",
   "metadata": {},
   "source": [
    "# Deletando os Dados Antigos e Reiniciando o Autoincremental da Chave, da Tabela dDP"
   ]
  },
  {
   "cell_type": "code",
   "execution_count": 32,
   "metadata": {},
   "outputs": [],
   "source": [
    "# Deletar os dados atuais\n",
    "sql_DW.execute(\"DELETE FROM dDP\") # A alegria de todo desenvolvedor\n",
    "\n",
    "# Reiniciando o autoincremental da Chave\n",
    "sql_DW.execute(\"UPDATE sqlite_sequence SET seq=0 WHERE name='dDP'\")\n",
    "\n",
    "# Confirmar a transação\n",
    "conexaoDW.commit()\n"
   ]
  },
  {
   "cell_type": "markdown",
   "metadata": {},
   "source": [
    "# Inserido dados na Dimensão DP (dDP), no DW"
   ]
  },
  {
   "cell_type": "code",
   "execution_count": 33,
   "metadata": {},
   "outputs": [
    {
     "name": "stdout",
     "output_type": "stream",
     "text": [
      "Iniciando a inserção de dados na tabela dDP.\n",
      "------------------------------------------------\n",
      "Carga Finalizada! 137 registros inseridos na dDP\n"
     ]
    }
   ],
   "source": [
    "# Inserindo registros na tabela dDP\n",
    "print(\"Iniciando a inserção de dados na tabela dDP.\")\n",
    "print(\"------------------------------------------------\")\n",
    "\n",
    "sql_DW.executemany(''' INSERT INTO dDP (codDP, nmDP, endereco, nmResponsavel) VALUES (?,?,?,?)''',dDP.values.tolist()) \n",
    "\n",
    "# Confirmar a transação\n",
    "conexaoDW.commit()\n",
    "\n",
    "# Exibir uma mensagem de conclusão de carga\n",
    "print(f\"Carga Finalizada! {len(dDP)} registros inseridos na dDP\")"
   ]
  },
  {
   "cell_type": "markdown",
   "metadata": {},
   "source": [
    "# Validando Carga  dos Dados da Dimensão DP (dDP)"
   ]
  },
  {
   "cell_type": "code",
   "execution_count": 34,
   "metadata": {},
   "outputs": [],
   "source": [
    "# Validadar a carga através de um select na dDP\n",
    "# pd.read_sql(\"SELECT * FROM dDP\", conexaoDW)"
   ]
  },
  {
   "cell_type": "markdown",
   "metadata": {},
   "source": [
    "# Construindo a Tebela de Dimensão BPM (dBPM) no DW"
   ]
  },
  {
   "cell_type": "code",
   "execution_count": 35,
   "metadata": {},
   "outputs": [],
   "source": [
    "# Definir a query decriação da tabela\n",
    "qry_dBPM= \"\"\"\n",
    "    CREATE TABLE IF NOT EXISTS dBPM(\n",
    "    \n",
    "    idBPM INTEGER PRIMARY KEY AUTOINCREMENT,\n",
    "    codBPM INTEGER,\n",
    "    nmBPM VARCHAR (7),\n",
    "    enderecoBPM VARCHAR (200),\n",
    "    areaBPM REAL (5,2)\n",
    ")\n",
    "\"\"\"\n",
    "\n",
    "# executar a criação da dBPM\n",
    "sql_DW.execute(qry_dBPM)\n",
    "\n",
    "# definição da qry de criação de index idBPM\n",
    "dBPM_idBPM_IDX = \"CREATE INDEX IF NOT EXISTS dBPM_idBPM_IDX ON dBPM (idBPM)\"\n",
    "\n",
    "# definição da qry de criação de index codBPM\n",
    "dBPM_codBPM_IDX = \"CREATE INDEX IF NOT EXISTS dBPM_codBPM_IDX ON dBPM (codBPM)\"\n",
    "\n",
    "# executar a criação do index idBPM\n",
    "sql_DW.execute(dBPM_idBPM_IDX)\n",
    "\n",
    "# executar a criação do index codBPM\n",
    "sql_DW.execute(dBPM_codBPM_IDX)\n",
    "\n",
    "# Confirmar a transação\n",
    "conexaoDW.commit()"
   ]
  },
  {
   "cell_type": "markdown",
   "metadata": {},
   "source": [
    "# Construindo a Tebela de Dimensão Periodo (dPeriodo) no DW"
   ]
  },
  {
   "cell_type": "code",
   "execution_count": 36,
   "metadata": {},
   "outputs": [],
   "source": [
    "# Definir a query decriação da tabela\n",
    "qry_dPeriodo= \"\"\"\n",
    "    CREATE TABLE IF NOT EXISTS dPeriodo(\n",
    "    \n",
    "    idPeriodo INTEGER PRIMARY KEY AUTOINCREMENT,\n",
    "    data DATETIME,\n",
    "    mes INTERGER,\n",
    "    ano INTEGER,\n",
    "    trimestre INTEGER,\n",
    "    semestre INTEGER\n",
    ")\n",
    "\"\"\"\n",
    "\n",
    "# executar a criação da dPeriodo\n",
    "sql_DW.execute(qry_dPeriodo)\n",
    "\n",
    "# definição da qry de criação de index idPeriodo\n",
    "dPeriodo_idPeriodo_IDX = \"CREATE INDEX IF NOT EXISTS dPeriodo_idPeriodo_IDX ON dPeriodo (idPeriodo)\"\n",
    "\n",
    "# definição da qry de criação de index codPeriodo\n",
    "dPeriodo_IDX = \"CREATE INDEX IF NOT EXISTS dPeriodo_IDX ON dPeriodo (mes, ano, trimestre,semestre)\"\n",
    "\n",
    "# executar a criação do index idPeriodo\n",
    "sql_DW.execute(dPeriodo_idPeriodo_IDX)\n",
    "\n",
    "# executar a criação do index dPeriodo_IDX\n",
    "sql_DW.execute(dPeriodo_IDX)\n",
    "\n",
    "# Confirmar a transação\n",
    "conexaoDW.commit()"
   ]
  },
  {
   "cell_type": "markdown",
   "metadata": {},
   "source": [
    "# Deletando os Dados Antigos e Reiniciando o Autoincremental da Chave, da Tabela dBPM "
   ]
  },
  {
   "cell_type": "code",
   "execution_count": 37,
   "metadata": {},
   "outputs": [],
   "source": [
    "# Deletar os dados atuais\n",
    "sql_DW.execute(\"DELETE FROM dBPM\") # A alegria de todo desenvolvedor\n",
    "\n",
    "# Reiniciando o autoincremental da Chave\n",
    "sql_DW.execute(\"UPDATE sqlite_sequence SET seq=0 WHERE name='dBPM'\")\n",
    "\n",
    "# Confirmar a transação\n",
    "conexaoDW.commit()\n"
   ]
  },
  {
   "cell_type": "markdown",
   "metadata": {},
   "source": [
    "# Inserido dados na Dimensão BPM (dBPM), no DW"
   ]
  },
  {
   "cell_type": "code",
   "execution_count": 38,
   "metadata": {},
   "outputs": [
    {
     "name": "stdout",
     "output_type": "stream",
     "text": [
      "Iniciando a inserção de dados na tabela dBPM.\n",
      "------------------------------------------------\n",
      "Carga Finalizada! 39 registros inseridos na dBPM\n"
     ]
    }
   ],
   "source": [
    "# Inserindo registros na tabela dBPM\n",
    "print(\"Iniciando a inserção de dados na tabela dBPM.\")\n",
    "print(\"------------------------------------------------\")\n",
    "\n",
    "sql_DW.executemany(''' INSERT INTO dBPM (codBPM, nmBPM, enderecoBPM, areaBPM) VALUES (?,?,?,?)''',dBPM.values.tolist()) \n",
    "\n",
    "# Confirmar a transação\n",
    "conexaoDW.commit()\n",
    "\n",
    "# Exibir uma mensagem de conclusão de carga\n",
    "print(f\"Carga Finalizada! {len(dBPM)} registros inseridos na dBPM\")"
   ]
  },
  {
   "cell_type": "markdown",
   "metadata": {},
   "source": [
    "# Fechando a conexão com o DW"
   ]
  },
  {
   "cell_type": "code",
   "execution_count": 39,
   "metadata": {},
   "outputs": [],
   "source": [
    "# Confirmar a transação\n",
    "conexaoDW.commit()\n",
    "\n",
    "# Fechar a conexão\n",
    "conexaoDW.close()\n"
   ]
  }
 ],
 "metadata": {
  "kernelspec": {
   "display_name": ".venv",
   "language": "python",
   "name": "python3"
  },
  "language_info": {
   "codemirror_mode": {
    "name": "ipython",
    "version": 3
   },
   "file_extension": ".py",
   "mimetype": "text/x-python",
   "name": "python",
   "nbconvert_exporter": "python",
   "pygments_lexer": "ipython3",
   "version": "3.12.3"
  }
 },
 "nbformat": 4,
 "nbformat_minor": 2
}
