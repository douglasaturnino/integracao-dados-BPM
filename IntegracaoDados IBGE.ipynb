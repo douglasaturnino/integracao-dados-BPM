{
 "cells": [
  {
   "cell_type": "code",
   "execution_count": 1,
   "metadata": {},
   "outputs": [],
   "source": [
    "import os\n",
    "import sqlite3 as sql\n",
    "from datetime import datetime\n",
    "\n",
    "import pandas as pd"
   ]
  },
  {
   "cell_type": "markdown",
   "metadata": {},
   "source": [
    "# Coleta de dados do site do IBGE"
   ]
  },
  {
   "cell_type": "code",
   "execution_count": 2,
   "metadata": {},
   "outputs": [],
   "source": [
    "# Coletando dados do IBGE\n",
    "url = 'https://www.ibge.gov.br/explica/codigos-dos-municipios.php#RJ'\n",
    "\n",
    "dadosIBGE = pd.read_html(url, match=\"Municípios do Rio de Janeiro\")[0]\n",
    "\n",
    "# Renomear colunas do df\n",
    "dadosIBGE = dadosIBGE.rename(columns={'Municípios do Rio de Janeiro':'nmMunic','Códigos':'codMunic'})\n",
    "\n",
    "# Alterando o nome do index\n",
    "dadosIBGE.index.name = 'idMunic'\n",
    "\n",
    "# Alterando o index para comelar em 1\n",
    "dadosIBGE.index = dadosIBGE.index + 1\n",
    "\n",
    "# Adicionoar uma coluna de data e hora decarga \n",
    "dtCarga = datetime.today().strftime('%d/%m/%Y %H:%M')\n",
    "dadosIBGE['dtCarga'] = dtCarga\n",
    "\n",
    "# dadosIBGE"
   ]
  },
  {
   "cell_type": "markdown",
   "metadata": {},
   "source": [
    "# Criando o Banco de Dados ODS"
   ]
  },
  {
   "cell_type": "code",
   "execution_count": 3,
   "metadata": {},
   "outputs": [],
   "source": [
    "# Manipulando o sistema de arquivos\n",
    "path = os.getcwd()\n",
    "\n",
    "BDODS = os.path.join(path, \"pascoaODS.db\")\n",
    "BDDW = os.path.join(path, \"pascoaDW.db\")"
   ]
  },
  {
   "cell_type": "markdown",
   "metadata": {},
   "source": [
    "# Manipulando os Bancos de Dados Criados"
   ]
  },
  {
   "cell_type": "code",
   "execution_count": 4,
   "metadata": {},
   "outputs": [
    {
     "name": "stdout",
     "output_type": "stream",
     "text": [
      "Cargo do BDODS concluída!\n"
     ]
    }
   ],
   "source": [
    "# Conectar no BDODS\n",
    "conexaoODS = sql.connect(BDODS)\n",
    "\n",
    "# Criar a tabela tbLogMunic e carregar os dados do DF dadosIBGE\n",
    "dadosIBGE.to_sql('tbLogMunic', conexaoODS, if_exists=\"append\")\n",
    "\n",
    "# Confirmar a transação\n",
    "conexaoODS.commit()\n",
    "\n",
    "# Fechat a conexão\n",
    "conexaoODS.close()\n",
    "\n",
    "print(\"Cargo do BDODS concluída!\")"
   ]
  },
  {
   "cell_type": "code",
   "execution_count": 5,
   "metadata": {},
   "outputs": [
    {
     "name": "stdout",
     "output_type": "stream",
     "text": [
      "Cargo do BDDW concluída!\n"
     ]
    }
   ],
   "source": [
    "# Conectar no BDDW\n",
    "conexaoDW = sql.connect(BDDW)\n",
    "\n",
    "# Selecionar somente as colunas para criação da dMunicipio\n",
    "dadosIBGE = dadosIBGE[['nmMunic', 'codMunic']]\n",
    "\n",
    "# Criar a tabela dMunicipio e carregar os dados do DF dadosIBGE\n",
    "dadosIBGE.to_sql('dMunicipio', conexaoDW, if_exists=\"replace\")\n",
    "\n",
    "# Confirmar a transação\n",
    "conexaoDW.commit()\n",
    "\n",
    "# Fechat a conexão\n",
    "conexaoDW.close()\n",
    "\n",
    "print(\"Cargo do BDDW concluída!\")"
   ]
  },
  {
   "cell_type": "markdown",
   "metadata": {},
   "source": [
    "# Carga dos Dados de Cadastro das Delegacias de Polícia"
   ]
  },
  {
   "cell_type": "code",
   "execution_count": 6,
   "metadata": {},
   "outputs": [],
   "source": [
    "# Definir o endereço fisico do arquivo CSV\n",
    "pathDP  = os.path.join(path, 'DP.csv')\n",
    "\n",
    "# Cria DataFrame com os dados das DPs\n",
    "tbLogDP = pd.read_csv(pathDP)\n",
    "\n",
    "# Criando coluna com a data da carga\n",
    "tbLogDP['dtCarga'] = dtCarga\n",
    "# Selecionado a coluna COD_DP como novo index\n",
    "# tbLogDP = tbLogDP.set_index(\"COD_DP\")"
   ]
  },
  {
   "cell_type": "markdown",
   "metadata": {},
   "source": [
    "# Carga dos dados de cadastro dos Responsaveis pelas delegacia de policia"
   ]
  },
  {
   "cell_type": "code",
   "execution_count": 7,
   "metadata": {},
   "outputs": [],
   "source": [
    "# Criar DataFrame com os dados com os reponsaveis pelas DPs\n",
    "path_responsaveis = os.path.join(path, 'ResponsavelDP.csv')\n",
    "\n",
    "tbLogRespDP = pd.read_csv(path_responsaveis)\n",
    "\n",
    "# Criando coluna com a data da carga\n",
    "tbLogRespDP['dtCarga'] = dtCarga\n",
    "\n",
    "# Selecionado a coluna COD_DP como novo index\n",
    "# tbLogRespDP = tbLogRespDP.set_index(\"COD_DP\")"
   ]
  },
  {
   "cell_type": "markdown",
   "metadata": {},
   "source": [
    "# Conectando no ODS"
   ]
  },
  {
   "cell_type": "code",
   "execution_count": 8,
   "metadata": {},
   "outputs": [],
   "source": [
    "# Conectando no ODS\n",
    "conexaoODS = sql.connect(BDODS)\n",
    "\n",
    "# Definição de manipulação de dados em SQL\n",
    "sql_ODS = conexaoODS.cursor()\n"
   ]
  },
  {
   "cell_type": "markdown",
   "metadata": {},
   "source": [
    "# Inserindo Dados das Delegacias de Polícia, no SQLite"
   ]
  },
  {
   "cell_type": "code",
   "execution_count": 9,
   "metadata": {},
   "outputs": [
    {
     "name": "stdout",
     "output_type": "stream",
     "text": [
      "Iniciando a inserção de dados na tabela tbLogDP.\n",
      "------------------------------------------------\n",
      "Carga Finalizada! 137 registros inseridos na tbLogDP\n"
     ]
    }
   ],
   "source": [
    "# Inserindo registros na tabela tbLogDP\n",
    "print(\"Iniciando a inserção de dados na tabela tbLogDP.\")\n",
    "print(\"------------------------------------------------\")\n",
    "\n",
    "sql_ODS.executemany(''' INSERT INTO tbLogDP (codDP, nmDP, endereco, dtCarga) VALUES (?,?,?,?)''',tbLogDP.values.tolist()) \n",
    "\n",
    "# Confirmar a transação\n",
    "conexaoODS.commit()\n",
    "\n",
    "# Exibir uma mensagem de conclusão de carga\n",
    "print(f\"Carga Finalizada! {len(tbLogDP)} registros inseridos na tbLogDP\")"
   ]
  },
  {
   "cell_type": "markdown",
   "metadata": {},
   "source": [
    "# Inserindo Dados dos Responsaveis pela Delegacias de Polícia, no SQLite\n"
   ]
  },
  {
   "cell_type": "code",
   "execution_count": 10,
   "metadata": {},
   "outputs": [
    {
     "name": "stdout",
     "output_type": "stream",
     "text": [
      "Iniciando a inserção de dados na tabela tbLogRespDP.\n",
      "------------------------------------------------\n",
      "Carga Finalizada! 137 registros inseridos na tbLogRespDP\n"
     ]
    }
   ],
   "source": [
    "# Inserindo registros na tabela tbLogRespDP\n",
    "print(\"Iniciando a inserção de dados na tabela tbLogRespDP.\")\n",
    "print(\"------------------------------------------------\")\n",
    "\n",
    "sql_ODS.executemany(''' INSERT INTO tbLogRespDP (codDP, nmResponsavel, dtCarga) VALUES (?,?,?)''',tbLogRespDP.values.tolist()) \n",
    "\n",
    "# Confirmar a transação\n",
    "conexaoODS.commit()\n",
    "\n",
    "# Exibir uma mensagem de conclusão de carga\n",
    "print(f\"Carga Finalizada! {len(tbLogRespDP)} registros inseridos na tbLogRespDP\")"
   ]
  },
  {
   "cell_type": "markdown",
   "metadata": {},
   "source": [
    "# Validando Carga dos Dados de DP e de Responsável do DP"
   ]
  },
  {
   "cell_type": "code",
   "execution_count": 11,
   "metadata": {},
   "outputs": [],
   "source": [
    "# Validadar a carga através de um select na tbLogDP\n",
    "# pd.read_sql(\"SELECT * FROM tbLogDP\", conexaoODS)"
   ]
  },
  {
   "cell_type": "code",
   "execution_count": 12,
   "metadata": {},
   "outputs": [],
   "source": [
    "# Validadar a carga através de um select na tbLogRespDP\n",
    "# pd.read_sql(\"SELECT * FROM tbLogRespDP\", conexaoODS)"
   ]
  },
  {
   "cell_type": "markdown",
   "metadata": {},
   "source": [
    "# Criando o DataFrame com o select de criação da dimensão DP (dDP), no DW"
   ]
  },
  {
   "cell_type": "code",
   "execution_count": 13,
   "metadata": {},
   "outputs": [],
   "source": [
    "# definir a query de criação da dimensão dDp\n",
    "\n",
    "qry_dDP = '''\n",
    "    SELECT\n",
    "        codDP,\n",
    "        nmDP,\n",
    "        endereco,\n",
    "        nmResponsavel\n",
    "    FROM\n",
    "    (\n",
    "        SELECT\n",
    "            a.codDP,\n",
    "            a.nmDP,\n",
    "            a.endereco,\n",
    "            b.nmResponsavel,\n",
    "            MAX(a.dtCarga)\n",
    "        FROM  tbLogDP a\n",
    "        JOIN tbLogRespDP b ON (a.codDP  = b.codDP)\n",
    "        GROUP BY \n",
    "            a.codDP,\n",
    "            a.nmDP,\n",
    "            a.endereco,\n",
    "            b.nmResponsavel\n",
    "    ) a\n",
    "'''\n",
    "\n",
    "dDP = pd.read_sql(qry_dDP, conexaoODS)"
   ]
  },
  {
   "cell_type": "markdown",
   "metadata": {},
   "source": [
    "# Coletando dados dos Batalhões de Polícia Militar (BPM)"
   ]
  },
  {
   "cell_type": "code",
   "execution_count": 14,
   "metadata": {},
   "outputs": [],
   "source": [
    "# Criar DataFrame com os dados dos BPMs\n",
    "path_BPM = os.path.join(path, 'BPM.csv')\n",
    "tbLogBPM = pd.read_csv(path_BPM)\n",
    "\n",
    "# Criando coluna com a data da carga\n",
    "tbLogBPM['dtCarga'] = dtCarga"
   ]
  },
  {
   "cell_type": "markdown",
   "metadata": {},
   "source": [
    "# Construindo a Tebela de Log de Registros do BPM (tbLogBPM) no ODS"
   ]
  },
  {
   "cell_type": "code",
   "execution_count": 16,
   "metadata": {},
   "outputs": [
    {
     "data": {
      "text/plain": [
       "<sqlite3.Cursor at 0x731f541400c0>"
      ]
     },
     "execution_count": 16,
     "metadata": {},
     "output_type": "execute_result"
    }
   ],
   "source": [
    "# Definir a query decriação da tabela\n",
    "qry_tbLogBPM = \"\"\"\n",
    "    CREATE TABLE IF NOT EXISTS tbLogBPM(\n",
    "    \n",
    "    codBPM INTEGER,\n",
    "    nmBPM VARCHAR (7),\n",
    "    endereco VARCHAR (200),\n",
    "    dtCarga DATETIME\n",
    ")\n",
    "\"\"\"\n",
    "\n",
    "# executar a criação da tbLogBPM\n",
    "sql_ODS.execute(qry_tbLogBPM)\n",
    "\n",
    "# definição da qry de criação de index\n",
    "tbLogBPM_codBPM_IDX = \"CREATE INDEX IF NOT EXISTS tbLogBPM_codBPM_IDX ON tbLogBPM (codBPM)\"\n",
    "\n",
    "# executar a criação do index\n",
    "sql_ODS.execute(tbLogBPM_codBPM_IDX)\n"
   ]
  },
  {
   "cell_type": "markdown",
   "metadata": {},
   "source": [
    "# Inserindo Dados de BPM na Tabela tbLogBPM"
   ]
  },
  {
   "cell_type": "code",
   "execution_count": 18,
   "metadata": {},
   "outputs": [
    {
     "name": "stdout",
     "output_type": "stream",
     "text": [
      "Iniciando a inserção de dados na tabela tbLogBPM.\n",
      "------------------------------------------------\n",
      "Carga Finalizada! 39 registros inseridos na tbLogBPM\n"
     ]
    }
   ],
   "source": [
    "# Inserindo registros na tabela tbLogBPM\n",
    "print(\"Iniciando a inserção de dados na tabela tbLogBPM.\")\n",
    "print(\"------------------------------------------------\")\n",
    "\n",
    "sql_ODS.executemany(''' INSERT INTO tbLogBPM (codBPM, nmBPM, endereco, dtCarga) VALUES (?,?,?,?)''',tbLogBPM.values.tolist()) \n",
    "\n",
    "# Confirmar a transação\n",
    "conexaoODS.commit()\n",
    "\n",
    "# Exibir uma mensagem de conclusão de carga\n",
    "print(f\"Carga Finalizada! {len(tbLogBPM)} registros inseridos na tbLogBPM\")"
   ]
  },
  {
   "cell_type": "markdown",
   "metadata": {},
   "source": [
    "# Fecando a conexão com o ODS"
   ]
  },
  {
   "cell_type": "code",
   "execution_count": null,
   "metadata": {},
   "outputs": [],
   "source": [
    "# Confirmar a transação \n",
    "conexaoODS.commit()\n",
    "\n",
    "# Fechar a conexão\n",
    "conexaoODS.close()"
   ]
  },
  {
   "cell_type": "markdown",
   "metadata": {},
   "source": [
    "# Conectando no DW e Informando ao python que usarei Linguagem SQL"
   ]
  },
  {
   "cell_type": "code",
   "execution_count": 37,
   "metadata": {},
   "outputs": [],
   "source": [
    "# Conectar no BDDW\n",
    "conexaoDW = sql.connect(BDDW)\n",
    "\n",
    "# Definição de manipulação de dados em SQL\n",
    "sql_DW = conexaoDW.cursor()"
   ]
  },
  {
   "cell_type": "markdown",
   "metadata": {},
   "source": [
    "# Deletando os Dados Antigos e Reiniciando o Autoincremental da Chave"
   ]
  },
  {
   "cell_type": "code",
   "execution_count": 38,
   "metadata": {},
   "outputs": [],
   "source": [
    "# Deletar os dados atuais\n",
    "sql_DW.execute(\"DELETE FROM dDP\") # A alegria de todo desenvolvedor\n",
    "\n",
    "# Reiniciando o autoincremental da Chave\n",
    "sql_DW.execute(\"UPDATE sqlite_sequence SET seq=0 WHERE name='dDP'\")\n",
    "\n",
    "# Confirmar a transação\n",
    "conexaoDW.commit()\n"
   ]
  },
  {
   "cell_type": "markdown",
   "metadata": {},
   "source": [
    "# Inserido dados na Dimensão DP (dDP), no DW"
   ]
  },
  {
   "cell_type": "code",
   "execution_count": 39,
   "metadata": {},
   "outputs": [
    {
     "name": "stdout",
     "output_type": "stream",
     "text": [
      "Iniciando a inserção de dados na tabela dDP.\n",
      "------------------------------------------------\n",
      "Carga Finalizada! 137 registros inseridos na dDP\n"
     ]
    }
   ],
   "source": [
    "# Inserindo registros na tabela dDP\n",
    "print(\"Iniciando a inserção de dados na tabela dDP.\")\n",
    "print(\"------------------------------------------------\")\n",
    "\n",
    "sql_DW.executemany(''' INSERT INTO dDP (codDP, nmDP, endereco, nmResponsavel) VALUES (?,?,?,?)''',dDP.values.tolist()) \n",
    "\n",
    "# Confirmar a transação\n",
    "conexaoDW.commit()\n",
    "\n",
    "# Exibir uma mensagem de conclusão de carga\n",
    "print(f\"Carga Finalizada! {len(dDP)} registros inseridos na dDP\")"
   ]
  },
  {
   "cell_type": "markdown",
   "metadata": {},
   "source": [
    "# Validando Carga  dos Dados da Dimensão DP (dDP)"
   ]
  },
  {
   "cell_type": "code",
   "execution_count": 40,
   "metadata": {},
   "outputs": [
    {
     "data": {
      "text/html": [
       "<div>\n",
       "<style scoped>\n",
       "    .dataframe tbody tr th:only-of-type {\n",
       "        vertical-align: middle;\n",
       "    }\n",
       "\n",
       "    .dataframe tbody tr th {\n",
       "        vertical-align: top;\n",
       "    }\n",
       "\n",
       "    .dataframe thead th {\n",
       "        text-align: right;\n",
       "    }\n",
       "</style>\n",
       "<table border=\"1\" class=\"dataframe\">\n",
       "  <thead>\n",
       "    <tr style=\"text-align: right;\">\n",
       "      <th></th>\n",
       "      <th>idDP</th>\n",
       "      <th>codDP</th>\n",
       "      <th>nmDP</th>\n",
       "      <th>endereco</th>\n",
       "      <th>nmResponsavel</th>\n",
       "    </tr>\n",
       "  </thead>\n",
       "  <tbody>\n",
       "    <tr>\n",
       "      <th>0</th>\n",
       "      <td>1</td>\n",
       "      <td>1</td>\n",
       "      <td>001ª DP - Praça Mauá</td>\n",
       "      <td>Atendendo provisoriamente na sede da 4ª DP - P...</td>\n",
       "      <td>Delegado de Polícia José Luiz Silva Duarte</td>\n",
       "    </tr>\n",
       "    <tr>\n",
       "      <th>1</th>\n",
       "      <td>2</td>\n",
       "      <td>4</td>\n",
       "      <td>004ª DP - Praça da República</td>\n",
       "      <td>Av. Presidente Vargas, 1100 - Centro, Rio de J...</td>\n",
       "      <td>Delegada de Polícia Patricia de Paiva Aguiar</td>\n",
       "    </tr>\n",
       "    <tr>\n",
       "      <th>2</th>\n",
       "      <td>3</td>\n",
       "      <td>5</td>\n",
       "      <td>005ª DP - Mem de Sá</td>\n",
       "      <td>Avenida Gomes Freire, 320 - Centro, Rio de Jan...</td>\n",
       "      <td>Delegado de Polícia Bruno Gilaberte Freitas</td>\n",
       "    </tr>\n",
       "    <tr>\n",
       "      <th>3</th>\n",
       "      <td>4</td>\n",
       "      <td>6</td>\n",
       "      <td>006ª DP - Cidade Nova</td>\n",
       "      <td>Rua Professor Clementino Fraga, 77 - Centro, R...</td>\n",
       "      <td>Delegado de Polícia Fabio Luiz Da Silva Souza</td>\n",
       "    </tr>\n",
       "    <tr>\n",
       "      <th>4</th>\n",
       "      <td>5</td>\n",
       "      <td>7</td>\n",
       "      <td>007ª DP - Santa Teresa</td>\n",
       "      <td>Rua Francisco de Castro, 5 - Santa Teresa, Rio...</td>\n",
       "      <td>Delegado de Polícia Carlos Alberto Meirelles D...</td>\n",
       "    </tr>\n",
       "    <tr>\n",
       "      <th>...</th>\n",
       "      <td>...</td>\n",
       "      <td>...</td>\n",
       "      <td>...</td>\n",
       "      <td>...</td>\n",
       "      <td>...</td>\n",
       "    </tr>\n",
       "    <tr>\n",
       "      <th>132</th>\n",
       "      <td>133</td>\n",
       "      <td>159</td>\n",
       "      <td>159ª DP - Cachoeira de Macacu</td>\n",
       "      <td>Avenida Lord Baden Powel, 93 - Centro, Cachoei...</td>\n",
       "      <td>Delegado de Polícia Clovis Souza Moreira</td>\n",
       "    </tr>\n",
       "    <tr>\n",
       "      <th>133</th>\n",
       "      <td>134</td>\n",
       "      <td>165</td>\n",
       "      <td>165ª DP - Mangaratiba</td>\n",
       "      <td>Estrada São João Marcos, s/n - Praia do Saco, ...</td>\n",
       "      <td>Delegado de Polícia Anderson Ribeiro Pinto</td>\n",
       "    </tr>\n",
       "    <tr>\n",
       "      <th>134</th>\n",
       "      <td>135</td>\n",
       "      <td>166</td>\n",
       "      <td>166ª DP - Angra dos Reis</td>\n",
       "      <td>Rua Doutor Coutinho, 6 - Centro, Angra dos Rei...</td>\n",
       "      <td>Delegado de Polícia Vilson de Almeida Silva</td>\n",
       "    </tr>\n",
       "    <tr>\n",
       "      <th>135</th>\n",
       "      <td>136</td>\n",
       "      <td>167</td>\n",
       "      <td>167ª DP - Paraty</td>\n",
       "      <td>Rua Roberto da Silveira , s/n - Vila Colonial,...</td>\n",
       "      <td>Delegado de Polícia Marcelo dos Santos Haddad</td>\n",
       "    </tr>\n",
       "    <tr>\n",
       "      <th>136</th>\n",
       "      <td>137</td>\n",
       "      <td>168</td>\n",
       "      <td>168ª DP - Rio Claro</td>\n",
       "      <td>Praça Fagundes Vahera, 62, Rio Claro, Rio de J...</td>\n",
       "      <td>Delegado de Polícia Francisco Benitez Lopes</td>\n",
       "    </tr>\n",
       "  </tbody>\n",
       "</table>\n",
       "<p>137 rows × 5 columns</p>\n",
       "</div>"
      ],
      "text/plain": [
       "     idDP  codDP                           nmDP  \\\n",
       "0       1      1           001ª DP - Praça Mauá   \n",
       "1       2      4   004ª DP - Praça da República   \n",
       "2       3      5            005ª DP - Mem de Sá   \n",
       "3       4      6          006ª DP - Cidade Nova   \n",
       "4       5      7         007ª DP - Santa Teresa   \n",
       "..    ...    ...                            ...   \n",
       "132   133    159  159ª DP - Cachoeira de Macacu   \n",
       "133   134    165          165ª DP - Mangaratiba   \n",
       "134   135    166       166ª DP - Angra dos Reis   \n",
       "135   136    167               167ª DP - Paraty   \n",
       "136   137    168            168ª DP - Rio Claro   \n",
       "\n",
       "                                              endereco  \\\n",
       "0    Atendendo provisoriamente na sede da 4ª DP - P...   \n",
       "1    Av. Presidente Vargas, 1100 - Centro, Rio de J...   \n",
       "2    Avenida Gomes Freire, 320 - Centro, Rio de Jan...   \n",
       "3    Rua Professor Clementino Fraga, 77 - Centro, R...   \n",
       "4    Rua Francisco de Castro, 5 - Santa Teresa, Rio...   \n",
       "..                                                 ...   \n",
       "132  Avenida Lord Baden Powel, 93 - Centro, Cachoei...   \n",
       "133  Estrada São João Marcos, s/n - Praia do Saco, ...   \n",
       "134  Rua Doutor Coutinho, 6 - Centro, Angra dos Rei...   \n",
       "135  Rua Roberto da Silveira , s/n - Vila Colonial,...   \n",
       "136  Praça Fagundes Vahera, 62, Rio Claro, Rio de J...   \n",
       "\n",
       "                                         nmResponsavel  \n",
       "0           Delegado de Polícia José Luiz Silva Duarte  \n",
       "1         Delegada de Polícia Patricia de Paiva Aguiar  \n",
       "2          Delegado de Polícia Bruno Gilaberte Freitas  \n",
       "3        Delegado de Polícia Fabio Luiz Da Silva Souza  \n",
       "4    Delegado de Polícia Carlos Alberto Meirelles D...  \n",
       "..                                                 ...  \n",
       "132           Delegado de Polícia Clovis Souza Moreira  \n",
       "133         Delegado de Polícia Anderson Ribeiro Pinto  \n",
       "134        Delegado de Polícia Vilson de Almeida Silva  \n",
       "135      Delegado de Polícia Marcelo dos Santos Haddad  \n",
       "136        Delegado de Polícia Francisco Benitez Lopes  \n",
       "\n",
       "[137 rows x 5 columns]"
      ]
     },
     "execution_count": 40,
     "metadata": {},
     "output_type": "execute_result"
    }
   ],
   "source": [
    "# Validadar a carga através de um select na dDP\n",
    "pd.read_sql(\"SELECT * FROM dDP\", conexaoDW)"
   ]
  },
  {
   "cell_type": "markdown",
   "metadata": {},
   "source": [
    "# Fechando a conexão com o DW"
   ]
  },
  {
   "cell_type": "code",
   "execution_count": 36,
   "metadata": {},
   "outputs": [],
   "source": [
    "# Confirmar a transação\n",
    "conexaoDW.commit()\n",
    "\n",
    "# Fechar a conexão\n",
    "conexaoDW.close()\n"
   ]
  },
  {
   "cell_type": "markdown",
   "metadata": {},
   "source": [
    "# Coletando dados dos Batalhões de Polícia Militar (BPM)"
   ]
  },
  {
   "cell_type": "code",
   "execution_count": 6,
   "metadata": {},
   "outputs": [],
   "source": [
    "# Criar DataFrame com os dados dos BPMs\n",
    "path_BPM = os.path.join(path, 'BPM.csv')\n",
    "tbLogBPM = pd.read_csv(path_BPM)\n",
    "\n",
    "# Criando coluna com a data da carga\n",
    "tbLogBPM['dtCarga'] = dtCarga"
   ]
  }
 ],
 "metadata": {
  "kernelspec": {
   "display_name": ".venv",
   "language": "python",
   "name": "python3"
  },
  "language_info": {
   "codemirror_mode": {
    "name": "ipython",
    "version": 3
   },
   "file_extension": ".py",
   "mimetype": "text/x-python",
   "name": "python",
   "nbconvert_exporter": "python",
   "pygments_lexer": "ipython3",
   "version": "3.12.3"
  }
 },
 "nbformat": 4,
 "nbformat_minor": 2
}
