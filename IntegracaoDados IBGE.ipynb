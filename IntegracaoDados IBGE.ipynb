{
 "cells": [
  {
   "cell_type": "code",
   "execution_count": 5,
   "metadata": {},
   "outputs": [],
   "source": [
    "import pandas as pd\n",
    "from datetime import datetime\n",
    "import os\n",
    "from pathlib import Path\n",
    "import sqlite3 as sql"
   ]
  },
  {
   "cell_type": "markdown",
   "metadata": {},
   "source": [
    "# Coleta de dados do site do IBGE"
   ]
  },
  {
   "cell_type": "code",
   "execution_count": 10,
   "metadata": {},
   "outputs": [],
   "source": [
    "# Coletando dados do IBGE\n",
    "url = 'https://www.ibge.gov.br/explica/codigos-dos-municipios.php#RJ'\n",
    "\n",
    "dadosIBGE = pd.read_html(url, match=\"Municípios do Rio de Janeiro\")[0]\n",
    "\n",
    "# Renomear colunas do df\n",
    "dadosIBGE = dadosIBGE.rename(columns={'Municípios do Rio de Janeiro':'nmMunic','Códigos':'codMunic'})\n",
    "\n",
    "# Alterando o nome do index\n",
    "dadosIBGE.index.name = 'idMunic'\n",
    "\n",
    "# Alterando o index para comelar em 1\n",
    "dadosIBGE.index = dadosIBGE.index + 1\n",
    "\n",
    "# Adicionoar uma coluna de data e hora decarga \n",
    "dadosIBGE['dtCarga'] = datetime.today().strftime('%d/%m/%Y %H:%M')\n",
    "\n",
    "# dadosIBGE"
   ]
  },
  {
   "cell_type": "markdown",
   "metadata": {},
   "source": [
    "# Criando o Banco de Dados ODS"
   ]
  },
  {
   "cell_type": "code",
   "execution_count": null,
   "metadata": {},
   "outputs": [],
   "source": [
    "# Manipulando o sistema de arquivos\n",
    "path = os.getcwd()\n",
    "\n",
    "BDODS = os.path.join(path, \"pascoaODS.db\")\n",
    "BDDW = os.path.join(path, \"pascoaDW.db\")"
   ]
  },
  {
   "cell_type": "markdown",
   "metadata": {},
   "source": [
    "# Manipulando os Bancos de Dados Criados"
   ]
  },
  {
   "cell_type": "code",
   "execution_count": 8,
   "metadata": {},
   "outputs": [
    {
     "data": {
      "text/plain": [
       "92"
      ]
     },
     "execution_count": 8,
     "metadata": {},
     "output_type": "execute_result"
    }
   ],
   "source": [
    "# Conectar no BDODS\n",
    "conexaoODS = sql.connect(BDODS)\n",
    "\n",
    "# Criar a tabela tbLogMunic e carregar os dados do DF dadosIBGE\n",
    "dadosIBGE.to_sql('tbLogMunic', conexaoODS, if_exists=\"append\")\n",
    "\n",
    "# Confirmar a transação\n",
    "conexaoODS.commit()\n",
    "\n",
    "# Fechat a conexão\n",
    "conexaoODS.close()\n",
    "\n",
    "print(\"Cargo do BDODS concluída!\")"
   ]
  },
  {
   "cell_type": "code",
   "execution_count": null,
   "metadata": {},
   "outputs": [],
   "source": [
    "# Conectar no BDDW\n",
    "conexaoDW = sql.connect(BDDW)\n",
    "\n",
    "# Selecionar somente as colunas para criação da dMunicipio\n",
    "dadosIBGE = dadosIBGE[['nmMunic', 'codMunic']]\n",
    "\n",
    "# Criar a tabela dMunicipio e carregar os dados do DF dadosIBGE\n",
    "dadosIBGE.to_sql('dMunicipio', conexaoDW, if_exists=\"replace\")\n",
    "\n",
    "# Confirmar a transação\n",
    "conexaoDW.commit()\n",
    "\n",
    "# Fechat a conexão\n",
    "conexaoDW.close()\n",
    "\n",
    "print(\"Cargo do BDDW concluída!\")"
   ]
  }
 ],
 "metadata": {
  "kernelspec": {
   "display_name": ".venv",
   "language": "python",
   "name": "python3"
  },
  "language_info": {
   "codemirror_mode": {
    "name": "ipython",
    "version": 3
   },
   "file_extension": ".py",
   "mimetype": "text/x-python",
   "name": "python",
   "nbconvert_exporter": "python",
   "pygments_lexer": "ipython3",
   "version": "3.12.3"
  }
 },
 "nbformat": 4,
 "nbformat_minor": 2
}
